{
  "nbformat": 4,
  "nbformat_minor": 0,
  "metadata": {
    "colab": {
      "provenance": [],
      "authorship_tag": "ABX9TyMptwrGNYhnN9CkveBgkB7o",
      "include_colab_link": true
    },
    "kernelspec": {
      "name": "python3",
      "display_name": "Python 3"
    },
    "language_info": {
      "name": "python"
    }
  },
  "cells": [
    {
      "cell_type": "markdown",
      "metadata": {
        "id": "view-in-github",
        "colab_type": "text"
      },
      "source": [
        "<a href=\"https://colab.research.google.com/github/SAVCHink2042/ML-algorithm/blob/main/multiclass_classification_svm_bad.ipynb\" target=\"_parent\"><img src=\"https://colab.research.google.com/assets/colab-badge.svg\" alt=\"Open In Colab\"/></a>"
      ]
    },
    {
      "cell_type": "markdown",
      "source": [
        "Многоклассовая классификация. методом one vs rest и one vs one через SVM\n",
        "\n",
        "очевидно, что accuracy слишком малая. методы Svm на этих данных выше 0.6 не дают\n",
        "\n",
        "Датасет отсюда: https://www.kaggle.com/datasets/kukuroo3/body-performance-data"
      ],
      "metadata": {
        "id": "eOh9UK7q0nja"
      }
    },
    {
      "cell_type": "code",
      "execution_count": null,
      "metadata": {
        "colab": {
          "base_uri": "https://localhost:8080/"
        },
        "id": "9fhnG3xs0bz4",
        "outputId": "8043b18f-efac-4177-cb54-84d8a1e74ec6"
      },
      "outputs": [
        {
          "output_type": "stream",
          "name": "stdout",
          "text": [
            "        age  gender  height_cm  weight_kg  body fat_%  diastolic  systolic  \\\n",
            "0      27.0       1      172.3      75.24        21.3       80.0     130.0   \n",
            "1      25.0       1      165.0      55.80        15.7       77.0     126.0   \n",
            "2      31.0       1      179.6      78.00        20.1       92.0     152.0   \n",
            "3      32.0       1      174.5      71.10        18.4       76.0     147.0   \n",
            "4      28.0       1      173.8      67.70        17.1       70.0     127.0   \n",
            "...     ...     ...        ...        ...         ...        ...       ...   \n",
            "13388  25.0       1      172.1      71.80        16.2       74.0     141.0   \n",
            "13389  21.0       1      179.7      63.90        12.1       74.0     128.0   \n",
            "13390  39.0       1      177.2      80.50        20.1       78.0     132.0   \n",
            "13391  64.0       0      146.1      57.70        40.4       68.0     121.0   \n",
            "13392  34.0       1      164.0      66.10        19.5       82.0     150.0   \n",
            "\n",
            "       gripForce  sit and bend forward_cm  sit-ups counts  broad jump_cm class  \n",
            "0           54.9                     18.4            60.0          217.0     C  \n",
            "1           36.4                     16.3            53.0          229.0     A  \n",
            "2           44.8                     12.0            49.0          181.0     C  \n",
            "3           41.4                     15.2            53.0          219.0     B  \n",
            "4           43.5                     27.1            45.0          217.0     B  \n",
            "...          ...                      ...             ...            ...   ...  \n",
            "13388       35.8                     17.4            47.0          198.0     C  \n",
            "13389       33.0                      1.1            48.0          167.0     D  \n",
            "13390       63.5                     16.4            45.0          229.0     A  \n",
            "13391       19.3                      9.2             0.0           75.0     D  \n",
            "13392       35.9                      7.1            51.0          180.0     C  \n",
            "\n",
            "[13393 rows x 12 columns]\n"
          ]
        }
      ],
      "source": [
        "import numpy as np\n",
        "from sklearn.model_selection import train_test_split\n",
        "import pandas as pd\n",
        "from sklearn.svm  import SVC\n",
        "from sklearn.preprocessing import LabelEncoder\n",
        "\n",
        "le = LabelEncoder()\n",
        "\n",
        "data  = pd.read_csv( \"bodyPerformance.csv\" )\n",
        "data['gender'] = data['gender'].map( { 'M': 1, 'F': 0 } )\n",
        "\n",
        "matrix = data.iloc[:, :11]\n",
        "target = data.iloc[:, 11]\n",
        "target_encoded = le.fit_transform(target)\n",
        "\n",
        "x_train, x_test, y_train, y_test = train_test_split(matrix, target_encoded, test_size = 0.25 )\n",
        "print(data)\n",
        "\n",
        "models = []\n",
        "for i in range(4):     # Обучение 4 моделей\n",
        "    y_binary = np.where(y_train == i, 1, 0 )\n",
        "    model = SVC(kernel = 'poly', random_state = 42 )\n",
        "    model.fit(x_train, y_binary)\n",
        "    models.append(model)\n"
      ]
    },
    {
      "cell_type": "code",
      "source": [
        "matrix = np.array([model.decision_function(x_test) for model in models]).T         #Без нормализации весов\n",
        "accur = 0\n",
        "for i in range(len(x_test) ):\n",
        "    if y_test[i] == np.argmax( matrix[i] ):\n",
        "        accur += 1\n",
        "print(\"ACCURACY ONE VS REST: \", accur/len(x_test) )"
      ],
      "metadata": {
        "colab": {
          "base_uri": "https://localhost:8080/"
        },
        "id": "-B4SHNdVdY6I",
        "outputId": "5a3388ec-86d0-49b8-9881-1592e3c2145f"
      },
      "execution_count": null,
      "outputs": [
        {
          "output_type": "stream",
          "name": "stdout",
          "text": [
            "ACCURACY ONE VS REST:  0.562257390265751\n"
          ]
        }
      ]
    },
    {
      "cell_type": "code",
      "source": [
        "from sklearn.multiclass import OneVsRestClassifier\n",
        "from sklearn.metrics import accuracy_score\n",
        "\n",
        "ovr = OneVsRestClassifier(SVC(kernel='rbf', random_state=42))\n",
        "ovr.fit(x_train, y_train)\n",
        "\n",
        "y_pred = ovr.predict(x_test)\n",
        "\n",
        "accuracy = accuracy_score(y_test, y_pred)\n",
        "print(f\"Accuracy: {accuracy:.4f}\")"
      ],
      "metadata": {
        "colab": {
          "base_uri": "https://localhost:8080/"
        },
        "id": "bISDvh3Anokj",
        "outputId": "49f2310a-38db-4d1c-9285-0721ffe78df4"
      },
      "execution_count": null,
      "outputs": [
        {
          "output_type": "stream",
          "name": "stdout",
          "text": [
            "Accuracy: 0.5282\n"
          ]
        }
      ]
    },
    {
      "cell_type": "code",
      "source": [
        "ovo = OneVsOneClassifier(SVC(kernel='poly', random_state=42))\n",
        "ovo.fit(x_train, y_train)\n",
        "\n",
        "y_pred = ovo.predict(x_test)\n",
        "\n",
        "accuracy = accuracy_score(y_test, y_pred)\n",
        "print(\"ACCURACY ONE VS ONE(библиотечная): \", accuracy)"
      ],
      "metadata": {
        "id": "TxrtAVlRgflG",
        "colab": {
          "base_uri": "https://localhost:8080/"
        },
        "outputId": "dd6e549f-454f-4ee5-ad76-0a15107a299d"
      },
      "execution_count": null,
      "outputs": [
        {
          "output_type": "stream",
          "name": "stdout",
          "text": [
            "ACCURACY ONE VS ONE(библиотечная):  0.6064496864735742\n"
          ]
        }
      ]
    },
    {
      "cell_type": "markdown",
      "source": [
        "  "
      ],
      "metadata": {
        "id": "ljsWyHRn0mxa"
      }
    }
  ]
}