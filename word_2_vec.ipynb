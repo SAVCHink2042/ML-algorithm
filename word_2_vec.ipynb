{
  "nbformat": 4,
  "nbformat_minor": 0,
  "metadata": {
    "colab": {
      "provenance": [],
      "authorship_tag": "ABX9TyMqz6ItZm8N/jLDn2UityqF",
      "include_colab_link": true
    },
    "kernelspec": {
      "name": "python3",
      "display_name": "Python 3"
    },
    "language_info": {
      "name": "python"
    }
  },
  "cells": [
    {
      "cell_type": "markdown",
      "metadata": {
        "id": "view-in-github",
        "colab_type": "text"
      },
      "source": [
        "<a href=\"https://colab.research.google.com/github/SAVCHink2042/ML-algorithm/blob/main/word_2_vec.ipynb\" target=\"_parent\"><img src=\"https://colab.research.google.com/assets/colab-badge.svg\" alt=\"Open In Colab\"/></a>"
      ]
    },
    {
      "cell_type": "code",
      "execution_count": null,
      "metadata": {
        "colab": {
          "base_uri": "https://localhost:8080/",
          "height": 533
        },
        "id": "xB20KkfuOAlA",
        "outputId": "eeb67185-500a-44dc-a511-5164e899bf0b"
      },
      "outputs": [
        {
          "output_type": "stream",
          "name": "stdout",
          "text": [
            "Found existing installation: numpy 1.23.5\n",
            "Uninstalling numpy-1.23.5:\n",
            "  Successfully uninstalled numpy-1.23.5\n",
            "Collecting numpy==1.23.5\n",
            "  Using cached numpy-1.23.5-cp311-cp311-manylinux_2_17_x86_64.manylinux2014_x86_64.whl.metadata (2.3 kB)\n",
            "Using cached numpy-1.23.5-cp311-cp311-manylinux_2_17_x86_64.manylinux2014_x86_64.whl (17.1 MB)\n",
            "Installing collected packages: numpy\n",
            "\u001b[31mERROR: pip's dependency resolver does not currently take into account all the packages that are installed. This behaviour is the source of the following dependency conflicts.\n",
            "blosc2 3.2.1 requires numpy>=1.26, but you have numpy 1.23.5 which is incompatible.\n",
            "jaxlib 0.5.1 requires numpy>=1.25, but you have numpy 1.23.5 which is incompatible.\n",
            "chex 0.1.89 requires numpy>=1.24.1, but you have numpy 1.23.5 which is incompatible.\n",
            "pymc 5.21.2 requires numpy>=1.25.0, but you have numpy 1.23.5 which is incompatible.\n",
            "bigframes 1.42.0 requires numpy>=1.24.0, but you have numpy 1.23.5 which is incompatible.\n",
            "jax 0.5.2 requires numpy>=1.25, but you have numpy 1.23.5 which is incompatible.\n",
            "scikit-image 0.25.2 requires numpy>=1.24, but you have numpy 1.23.5 which is incompatible.\n",
            "treescope 0.1.9 requires numpy>=1.25.2, but you have numpy 1.23.5 which is incompatible.\n",
            "thinc 8.3.6 requires numpy<3.0.0,>=2.0.0, but you have numpy 1.23.5 which is incompatible.\n",
            "tensorflow 2.18.0 requires numpy<2.1.0,>=1.26.0, but you have numpy 1.23.5 which is incompatible.\n",
            "imbalanced-learn 0.13.0 requires numpy<3,>=1.24.3, but you have numpy 1.23.5 which is incompatible.\n",
            "albumentations 2.0.5 requires numpy>=1.24.4, but you have numpy 1.23.5 which is incompatible.\n",
            "albucore 0.0.23 requires numpy>=1.24.4, but you have numpy 1.23.5 which is incompatible.\n",
            "xarray 2025.1.2 requires numpy>=1.24, but you have numpy 1.23.5 which is incompatible.\u001b[0m\u001b[31m\n",
            "\u001b[0mSuccessfully installed numpy-1.23.5\n"
          ]
        },
        {
          "output_type": "display_data",
          "data": {
            "application/vnd.colab-display-data+json": {
              "pip_warning": {
                "packages": [
                  "numpy"
                ]
              },
              "id": "8142278795404e859f30b966e520706e"
            }
          },
          "metadata": {}
        }
      ],
      "source": [
        "!pip uninstall numpy -y\n",
        "!pip install numpy==1.23.5\n",
        "exit()"
      ]
    },
    {
      "cell_type": "code",
      "source": [
        "!pip install gensim"
      ],
      "metadata": {
        "colab": {
          "base_uri": "https://localhost:8080/"
        },
        "id": "rM7zYP7-sk-o",
        "outputId": "df0ad2ff-8d86-4cc1-a5e5-774523aaa444"
      },
      "execution_count": null,
      "outputs": [
        {
          "output_type": "stream",
          "name": "stdout",
          "text": [
            "Collecting gensim\n",
            "  Downloading gensim-4.3.3-cp311-cp311-manylinux_2_17_x86_64.manylinux2014_x86_64.whl.metadata (8.1 kB)\n",
            "Requirement already satisfied: numpy<2.0,>=1.18.5 in /usr/local/lib/python3.11/dist-packages (from gensim) (1.23.5)\n",
            "Collecting scipy<1.14.0,>=1.7.0 (from gensim)\n",
            "  Downloading scipy-1.13.1-cp311-cp311-manylinux_2_17_x86_64.manylinux2014_x86_64.whl.metadata (60 kB)\n",
            "\u001b[2K     \u001b[90m━━━━━━━━━━━━━━━━━━━━━━━━━━━━━━━━━━━━━━━━\u001b[0m \u001b[32m60.6/60.6 kB\u001b[0m \u001b[31m4.8 MB/s\u001b[0m eta \u001b[36m0:00:00\u001b[0m\n",
            "\u001b[?25hRequirement already satisfied: smart-open>=1.8.1 in /usr/local/lib/python3.11/dist-packages (from gensim) (7.1.0)\n",
            "Requirement already satisfied: wrapt in /usr/local/lib/python3.11/dist-packages (from smart-open>=1.8.1->gensim) (1.17.2)\n",
            "Downloading gensim-4.3.3-cp311-cp311-manylinux_2_17_x86_64.manylinux2014_x86_64.whl (26.7 MB)\n",
            "\u001b[2K   \u001b[90m━━━━━━━━━━━━━━━━━━━━━━━━━━━━━━━━━━━━━━━━\u001b[0m \u001b[32m26.7/26.7 MB\u001b[0m \u001b[31m69.4 MB/s\u001b[0m eta \u001b[36m0:00:00\u001b[0m\n",
            "\u001b[?25hDownloading scipy-1.13.1-cp311-cp311-manylinux_2_17_x86_64.manylinux2014_x86_64.whl (38.6 MB)\n",
            "\u001b[2K   \u001b[90m━━━━━━━━━━━━━━━━━━━━━━━━━━━━━━━━━━━━━━━━\u001b[0m \u001b[32m38.6/38.6 MB\u001b[0m \u001b[31m19.9 MB/s\u001b[0m eta \u001b[36m0:00:00\u001b[0m\n",
            "\u001b[?25hInstalling collected packages: scipy, gensim\n",
            "  Attempting uninstall: scipy\n",
            "    Found existing installation: scipy 1.14.1\n",
            "    Uninstalling scipy-1.14.1:\n",
            "      Successfully uninstalled scipy-1.14.1\n",
            "\u001b[31mERROR: pip's dependency resolver does not currently take into account all the packages that are installed. This behaviour is the source of the following dependency conflicts.\n",
            "jaxlib 0.5.1 requires numpy>=1.25, but you have numpy 1.23.5 which is incompatible.\n",
            "chex 0.1.89 requires numpy>=1.24.1, but you have numpy 1.23.5 which is incompatible.\n",
            "pymc 5.21.2 requires numpy>=1.25.0, but you have numpy 1.23.5 which is incompatible.\n",
            "jax 0.5.2 requires numpy>=1.25, but you have numpy 1.23.5 which is incompatible.\n",
            "scikit-image 0.25.2 requires numpy>=1.24, but you have numpy 1.23.5 which is incompatible.\n",
            "imbalanced-learn 0.13.0 requires numpy<3,>=1.24.3, but you have numpy 1.23.5 which is incompatible.\n",
            "albumentations 2.0.5 requires numpy>=1.24.4, but you have numpy 1.23.5 which is incompatible.\u001b[0m\u001b[31m\n",
            "\u001b[0mSuccessfully installed gensim-4.3.3 scipy-1.13.1\n"
          ]
        }
      ]
    },
    {
      "cell_type": "code",
      "source": [
        "with open('Первые две главы Мастера и Маргариты.txt', 'r', encoding='utf-8') as file:\n",
        "    text = file.read()\n",
        "\n",
        "sentences = [s.strip() for s in text.split('.') if s.strip()]  # Разделение по символалм\n",
        "sentences += [s.strip() for s in text.split('!') if s.strip()]\n",
        "sentences += [s.strip() for s in text.split('?') if s.strip()]\n",
        "sentences += [s.strip() for s in text.split('-') if s.strip()]\n",
        "sentences += [s.strip() for s in text.split('\"') if s.strip()]\n",
        "sentences += [s.strip() for s in text.split(',') if s.strip()]"
      ],
      "metadata": {
        "id": "D82IFBX2oARR"
      },
      "execution_count": null,
      "outputs": []
    },
    {
      "cell_type": "code",
      "source": [
        "from gensim.models import Word2Vec\n",
        "from gensim.utils import simple_preprocess\n",
        "\n",
        "tokenized_sentences = [simple_preprocess(sent.lower(), min_len=2) for sent in sentences]\n",
        "\n",
        "model = Word2Vec(\n",
        "    sentences=tokenized_sentences,\n",
        "    vector_size=300,     # размерность вектора\n",
        "    window=8,             # размер окна контекста\n",
        "    min_count=7,          # минимальная частота слова\n",
        "    workers=20            # количество потоков\n",
        ")\n",
        "\n",
        "model.save(\"word2vec.model\")\n",
        "\n",
        "\n",
        "words = [\"жизнь\", \"человек\", \"скамейка\", \"мир\", \"очки\"]\n",
        "for word in words :\n",
        "    if word in model.wv:\n",
        "        print(f\"   Вектор для слова '{word}':\")                       #, model.wv[word])\n",
        "        print(\"Ближайшие слова:\", model.wv.most_similar(word))\n",
        "    else:\n",
        "        print(f\"Слово '{word}' отсутствует в словаре \")\n",
        "    num_words = len(model.wv.key_to_index)\n",
        "print(f\"  Количество уникальных слов в модели: {num_words}\")"
      ],
      "metadata": {
        "colab": {
          "base_uri": "https://localhost:8080/"
        },
        "id": "RmZnlTr2X5gv",
        "outputId": "3fabbe33-f97a-4ea8-d732-f8ff8bf465c2"
      },
      "execution_count": null,
      "outputs": [
        {
          "output_type": "stream",
          "name": "stdout",
          "text": [
            "   Вектор для слова 'жизнь':\n",
            "Ближайшие слова: [('между', 0.999478280544281), ('пока', 0.9994736313819885), ('секретарю', 0.9994703531265259), ('свою', 0.9994691610336304), ('ино', 0.9994462132453918), ('добавил', 0.9994352459907532), ('пират', 0.9994329214096069), ('себе', 0.9994321465492249), ('возразил', 0.9994173049926758), ('ершалаим', 0.9994168877601624)]\n",
            "   Вектор для слова 'человек':\n",
            "Ближайшие слова: [('первый', 0.9996567368507385), ('второй', 0.9996420741081238), ('глазами', 0.9996399283409119), ('который', 0.999608039855957), ('вместе', 0.9995765089988708), ('лишь', 0.999571681022644), ('начал', 0.9995698928833008), ('словом', 0.9995682239532471), ('бронной', 0.999565064907074), ('которую', 0.9995573163032532)]\n",
            "Слово 'скамейка' отсутствует в словаре \n",
            "   Вектор для слова 'мир':\n",
            "Ближайшие слова: [('продолжал', 0.9994298219680786), ('итак', 0.9994180798530579), ('глаз', 0.9994174242019653), ('сказать', 0.9994063973426819), ('хотя', 0.9994062781333923), ('никого', 0.9993985295295715), ('место', 0.9993982315063477), ('власть', 0.9993946552276611), ('слово', 0.9993919730186462), ('понял', 0.9993892312049866)]\n",
            "   Вектор для слова 'очки':\n",
            "Ближайшие слова: [('лица', 0.999732494354248), ('которую', 0.9997250437736511), ('глазами', 0.9997239112854004), ('комнату', 0.9997091293334961), ('через', 0.9997057914733887), ('сто', 0.9997053146362305), ('второй', 0.9997040033340454), ('утром', 0.9997029900550842), ('своей', 0.9996993541717529), ('вместе', 0.9996963143348694)]\n",
            "  Количество уникальных слов в модели: 2558\n"
          ]
        }
      ]
    }
  ]
}